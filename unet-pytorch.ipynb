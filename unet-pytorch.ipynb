{
 "cells": [
  {
   "attachments": {},
   "cell_type": "markdown",
   "metadata": {},
   "source": [
    "# Unet-Pytorch\n",
    "Este proyecto nace con la idea de tener una alternativa a la implementación de U-Net en Tensorflow. La idea es que sea lo más parecida posible a la implementación de Tensorflow, pero en Pytorch."
   ]
  },
  {
   "attachments": {},
   "cell_type": "markdown",
   "metadata": {},
   "source": [
    "## Importar librerías"
   ]
  },
  {
   "cell_type": "code",
   "execution_count": 19,
   "metadata": {},
   "outputs": [],
   "source": [
    "import numpy as np\n",
    "import matplotlib.pyplot as plt\n",
    "import os, random, torch, shutil, cv2\n",
    "from torch import nn, optim\n",
    "from torch.nn import functional as F\n",
    "from torchvision import transforms as T\n",
    "from torch.utils.data import random_split, DataLoader\n",
    "import glob\n",
    "\n",
    "import PIL, skimage.io\n",
    "from PIL import Image\n",
    "\n",
    "from lxml import etree\n"
   ]
  },
  {
   "attachments": {},
   "cell_type": "markdown",
   "metadata": {},
   "source": [
    "## Comprobar si hay GPU"
   ]
  },
  {
   "cell_type": "code",
   "execution_count": 3,
   "metadata": {},
   "outputs": [
    {
     "data": {
      "text/plain": [
       "device(type='cuda', index=0)"
      ]
     },
     "execution_count": 3,
     "metadata": {},
     "output_type": "execute_result"
    }
   ],
   "source": [
    "device = torch.device(\"cuda:0\" if torch.cuda.is_available() else \"cpu\")\n",
    "device"
   ]
  },
  {
   "attachments": {},
   "cell_type": "markdown",
   "metadata": {},
   "source": [
    "## Directorios"
   ]
  },
  {
   "cell_type": "code",
   "execution_count": 21,
   "metadata": {},
   "outputs": [
    {
     "name": "stdout",
     "output_type": "stream",
     "text": [
      "2892\n"
     ]
    }
   ],
   "source": [
    "# Localización de los frames\n",
    "annotation_file = \"data/annotations.xml\"\n",
    "frames_dir = \"data/frames/\"\n",
    "train_location = \"data/train/*\"\n",
    "mask_location = \"data/mask/*\"\n",
    "frames = os.listdir(frames_dir)\n",
    "\n",
    "print(len(frames))\n",
    "labels = {\"acera\":0,\n",
    "          \"ciclovia\":0,\n",
    "          \"cruceZebra\":0}\n"
   ]
  },
  {
   "cell_type": "code",
   "execution_count": 6,
   "metadata": {},
   "outputs": [
    {
     "data": {
      "text/plain": [
       "['calzada_galvan_0.jpg',\n",
       " 'calzada_galvan_1.jpg',\n",
       " 'calzada_galvan_10.jpg',\n",
       " 'calzada_galvan_100.jpg',\n",
       " 'calzada_galvan_1000.jpg']"
      ]
     },
     "execution_count": 6,
     "metadata": {},
     "output_type": "execute_result"
    }
   ],
   "source": [
    "frames[:5]"
   ]
  },
  {
   "attachments": {},
   "cell_type": "markdown",
   "metadata": {},
   "source": [
    "## Limpiar directorios "
   ]
  },
  {
   "cell_type": "code",
   "execution_count": 5,
   "metadata": {},
   "outputs": [
    {
     "name": "stdout",
     "output_type": "stream",
     "text": [
      "data/train/ Limpio\n",
      "data/mask/ Limpio\n",
      "data/frameSinEtiquetar Limpio\n"
     ]
    }
   ],
   "source": [
    "def clean_dir(path):\n",
    "    files = os.listdir(path)\n",
    "    if files:\n",
    "        for f in files:\n",
    "            os.remove(os.path.join(path, f))\n",
    "        print(path, \"Limpio\")\n",
    "    else:\n",
    "        print(path,\"Actualmente vacia\")\n",
    "        \n",
    "def cleanProcess():\n",
    "    #Limpiamos los directorios\n",
    "    clean_dir(train_location)\n",
    "    clean_dir(mask_location)\n",
    "    clean_dir(\"data/frameSinEtiquetar\")\n",
    "    \n",
    "cleanProcess()"
   ]
  },
  {
   "attachments": {},
   "cell_type": "markdown",
   "metadata": {},
   "source": [
    "## Copiar frames a directorios"
   ]
  },
  {
   "cell_type": "code",
   "execution_count": 10,
   "metadata": {},
   "outputs": [
    {
     "name": "stderr",
     "output_type": "stream",
     "text": [
      "C:\\Users\\pedro\\AppData\\Local\\Temp\\ipykernel_5024\\1630754020.py:92: UserWarning: data/mask/calzada_galvan_1044.tif is a low contrast image\n",
      "  skimage.io.imsave(destination_mask, mask, plugin=\"tifffile\")\n",
      "C:\\Users\\pedro\\AppData\\Local\\Temp\\ipykernel_5024\\1630754020.py:92: UserWarning: data/mask/calzada_galvan_1052.tif is a low contrast image\n",
      "  skimage.io.imsave(destination_mask, mask, plugin=\"tifffile\")\n",
      "C:\\Users\\pedro\\AppData\\Local\\Temp\\ipykernel_5024\\1630754020.py:92: UserWarning: data/mask/calzada_galvan_1062.tif is a low contrast image\n",
      "  skimage.io.imsave(destination_mask, mask, plugin=\"tifffile\")\n",
      "C:\\Users\\pedro\\AppData\\Local\\Temp\\ipykernel_5024\\1630754020.py:92: UserWarning: data/mask/calzada_galvan_1070.tif is a low contrast image\n",
      "  skimage.io.imsave(destination_mask, mask, plugin=\"tifffile\")\n",
      "C:\\Users\\pedro\\AppData\\Local\\Temp\\ipykernel_5024\\1630754020.py:92: UserWarning: data/mask/calzada_galvan_1075.tif is a low contrast image\n",
      "  skimage.io.imsave(destination_mask, mask, plugin=\"tifffile\")\n",
      "C:\\Users\\pedro\\AppData\\Local\\Temp\\ipykernel_5024\\1630754020.py:92: UserWarning: data/mask/calzada_galvan_1460.tif is a low contrast image\n",
      "  skimage.io.imsave(destination_mask, mask, plugin=\"tifffile\")\n",
      "C:\\Users\\pedro\\AppData\\Local\\Temp\\ipykernel_5024\\1630754020.py:92: UserWarning: data/mask/calzada_galvan_1463.tif is a low contrast image\n",
      "  skimage.io.imsave(destination_mask, mask, plugin=\"tifffile\")\n",
      "C:\\Users\\pedro\\AppData\\Local\\Temp\\ipykernel_5024\\1630754020.py:92: UserWarning: data/mask/calzada_galvan_1464.tif is a low contrast image\n",
      "  skimage.io.imsave(destination_mask, mask, plugin=\"tifffile\")\n",
      "C:\\Users\\pedro\\AppData\\Local\\Temp\\ipykernel_5024\\1630754020.py:92: UserWarning: data/mask/calzada_galvan_1696.tif is a low contrast image\n",
      "  skimage.io.imsave(destination_mask, mask, plugin=\"tifffile\")\n",
      "C:\\Users\\pedro\\AppData\\Local\\Temp\\ipykernel_5024\\1630754020.py:92: UserWarning: data/mask/calzada_galvan_1697.tif is a low contrast image\n",
      "  skimage.io.imsave(destination_mask, mask, plugin=\"tifffile\")\n",
      "C:\\Users\\pedro\\AppData\\Local\\Temp\\ipykernel_5024\\1630754020.py:92: UserWarning: data/mask/calzada_galvan_1732.tif is a low contrast image\n",
      "  skimage.io.imsave(destination_mask, mask, plugin=\"tifffile\")\n",
      "C:\\Users\\pedro\\AppData\\Local\\Temp\\ipykernel_5024\\1630754020.py:92: UserWarning: data/mask/calzada_galvan_1734.tif is a low contrast image\n",
      "  skimage.io.imsave(destination_mask, mask, plugin=\"tifffile\")\n",
      "C:\\Users\\pedro\\AppData\\Local\\Temp\\ipykernel_5024\\1630754020.py:92: UserWarning: data/mask/calzada_galvan_1735.tif is a low contrast image\n",
      "  skimage.io.imsave(destination_mask, mask, plugin=\"tifffile\")\n",
      "C:\\Users\\pedro\\AppData\\Local\\Temp\\ipykernel_5024\\1630754020.py:92: UserWarning: data/mask/calzada_galvan_1736.tif is a low contrast image\n",
      "  skimage.io.imsave(destination_mask, mask, plugin=\"tifffile\")\n",
      "C:\\Users\\pedro\\AppData\\Local\\Temp\\ipykernel_5024\\1630754020.py:92: UserWarning: data/mask/calzada_galvan_1737.tif is a low contrast image\n",
      "  skimage.io.imsave(destination_mask, mask, plugin=\"tifffile\")\n",
      "C:\\Users\\pedro\\AppData\\Local\\Temp\\ipykernel_5024\\1630754020.py:92: UserWarning: data/mask/calzada_galvan_1738.tif is a low contrast image\n",
      "  skimage.io.imsave(destination_mask, mask, plugin=\"tifffile\")\n",
      "C:\\Users\\pedro\\AppData\\Local\\Temp\\ipykernel_5024\\1630754020.py:92: UserWarning: data/mask/calzada_galvan_1739.tif is a low contrast image\n",
      "  skimage.io.imsave(destination_mask, mask, plugin=\"tifffile\")\n",
      "C:\\Users\\pedro\\AppData\\Local\\Temp\\ipykernel_5024\\1630754020.py:92: UserWarning: data/mask/calzada_galvan_1740.tif is a low contrast image\n",
      "  skimage.io.imsave(destination_mask, mask, plugin=\"tifffile\")\n",
      "C:\\Users\\pedro\\AppData\\Local\\Temp\\ipykernel_5024\\1630754020.py:92: UserWarning: data/mask/calzada_galvan_1741.tif is a low contrast image\n",
      "  skimage.io.imsave(destination_mask, mask, plugin=\"tifffile\")\n",
      "C:\\Users\\pedro\\AppData\\Local\\Temp\\ipykernel_5024\\1630754020.py:92: UserWarning: data/mask/calzada_galvan_1743.tif is a low contrast image\n",
      "  skimage.io.imsave(destination_mask, mask, plugin=\"tifffile\")\n",
      "C:\\Users\\pedro\\AppData\\Local\\Temp\\ipykernel_5024\\1630754020.py:92: UserWarning: data/mask/calzada_galvan_1782.tif is a low contrast image\n",
      "  skimage.io.imsave(destination_mask, mask, plugin=\"tifffile\")\n",
      "C:\\Users\\pedro\\AppData\\Local\\Temp\\ipykernel_5024\\1630754020.py:92: UserWarning: data/mask/calzada_galvan_1784.tif is a low contrast image\n",
      "  skimage.io.imsave(destination_mask, mask, plugin=\"tifffile\")\n",
      "C:\\Users\\pedro\\AppData\\Local\\Temp\\ipykernel_5024\\1630754020.py:92: UserWarning: data/mask/calzada_galvan_1785.tif is a low contrast image\n",
      "  skimage.io.imsave(destination_mask, mask, plugin=\"tifffile\")\n",
      "C:\\Users\\pedro\\AppData\\Local\\Temp\\ipykernel_5024\\1630754020.py:92: UserWarning: data/mask/calzada_galvan_1786.tif is a low contrast image\n",
      "  skimage.io.imsave(destination_mask, mask, plugin=\"tifffile\")\n",
      "C:\\Users\\pedro\\AppData\\Local\\Temp\\ipykernel_5024\\1630754020.py:92: UserWarning: data/mask/calzada_galvan_1787.tif is a low contrast image\n",
      "  skimage.io.imsave(destination_mask, mask, plugin=\"tifffile\")\n",
      "C:\\Users\\pedro\\AppData\\Local\\Temp\\ipykernel_5024\\1630754020.py:92: UserWarning: data/mask/calzada_galvan_1799.tif is a low contrast image\n",
      "  skimage.io.imsave(destination_mask, mask, plugin=\"tifffile\")\n",
      "C:\\Users\\pedro\\AppData\\Local\\Temp\\ipykernel_5024\\1630754020.py:92: UserWarning: data/mask/calzada_galvan_1800.tif is a low contrast image\n",
      "  skimage.io.imsave(destination_mask, mask, plugin=\"tifffile\")\n",
      "C:\\Users\\pedro\\AppData\\Local\\Temp\\ipykernel_5024\\1630754020.py:92: UserWarning: data/mask/calzada_galvan_1801.tif is a low contrast image\n",
      "  skimage.io.imsave(destination_mask, mask, plugin=\"tifffile\")\n",
      "C:\\Users\\pedro\\AppData\\Local\\Temp\\ipykernel_5024\\1630754020.py:92: UserWarning: data/mask/calzada_galvan_1813.tif is a low contrast image\n",
      "  skimage.io.imsave(destination_mask, mask, plugin=\"tifffile\")\n",
      "C:\\Users\\pedro\\AppData\\Local\\Temp\\ipykernel_5024\\1630754020.py:92: UserWarning: data/mask/calzada_galvan_1828.tif is a low contrast image\n",
      "  skimage.io.imsave(destination_mask, mask, plugin=\"tifffile\")\n",
      "C:\\Users\\pedro\\AppData\\Local\\Temp\\ipykernel_5024\\1630754020.py:92: UserWarning: data/mask/calzada_galvan_1937.tif is a low contrast image\n",
      "  skimage.io.imsave(destination_mask, mask, plugin=\"tifffile\")\n",
      "C:\\Users\\pedro\\AppData\\Local\\Temp\\ipykernel_5024\\1630754020.py:92: UserWarning: data/mask/calzada_galvan_1938.tif is a low contrast image\n",
      "  skimage.io.imsave(destination_mask, mask, plugin=\"tifffile\")\n",
      "C:\\Users\\pedro\\AppData\\Local\\Temp\\ipykernel_5024\\1630754020.py:92: UserWarning: data/mask/calzada_galvan_1940.tif is a low contrast image\n",
      "  skimage.io.imsave(destination_mask, mask, plugin=\"tifffile\")\n",
      "C:\\Users\\pedro\\AppData\\Local\\Temp\\ipykernel_5024\\1630754020.py:92: UserWarning: data/mask/calzada_galvan_2221.tif is a low contrast image\n",
      "  skimage.io.imsave(destination_mask, mask, plugin=\"tifffile\")\n",
      "C:\\Users\\pedro\\AppData\\Local\\Temp\\ipykernel_5024\\1630754020.py:92: UserWarning: data/mask/calzada_galvan_2316.tif is a low contrast image\n",
      "  skimage.io.imsave(destination_mask, mask, plugin=\"tifffile\")\n",
      "C:\\Users\\pedro\\AppData\\Local\\Temp\\ipykernel_5024\\1630754020.py:92: UserWarning: data/mask/calzada_galvan_2468.tif is a low contrast image\n",
      "  skimage.io.imsave(destination_mask, mask, plugin=\"tifffile\")\n",
      "C:\\Users\\pedro\\AppData\\Local\\Temp\\ipykernel_5024\\1630754020.py:92: UserWarning: data/mask/calzada_galvan_2469.tif is a low contrast image\n",
      "  skimage.io.imsave(destination_mask, mask, plugin=\"tifffile\")\n",
      "C:\\Users\\pedro\\AppData\\Local\\Temp\\ipykernel_5024\\1630754020.py:92: UserWarning: data/mask/calzada_galvan_2470.tif is a low contrast image\n",
      "  skimage.io.imsave(destination_mask, mask, plugin=\"tifffile\")\n",
      "C:\\Users\\pedro\\AppData\\Local\\Temp\\ipykernel_5024\\1630754020.py:92: UserWarning: data/mask/calzada_galvan_2473.tif is a low contrast image\n",
      "  skimage.io.imsave(destination_mask, mask, plugin=\"tifffile\")\n",
      "C:\\Users\\pedro\\AppData\\Local\\Temp\\ipykernel_5024\\1630754020.py:92: UserWarning: data/mask/calzada_galvan_2474.tif is a low contrast image\n",
      "  skimage.io.imsave(destination_mask, mask, plugin=\"tifffile\")\n",
      "C:\\Users\\pedro\\AppData\\Local\\Temp\\ipykernel_5024\\1630754020.py:92: UserWarning: data/mask/calzada_galvan_2475.tif is a low contrast image\n",
      "  skimage.io.imsave(destination_mask, mask, plugin=\"tifffile\")\n",
      "C:\\Users\\pedro\\AppData\\Local\\Temp\\ipykernel_5024\\1630754020.py:92: UserWarning: data/mask/calzada_galvan_2476.tif is a low contrast image\n",
      "  skimage.io.imsave(destination_mask, mask, plugin=\"tifffile\")\n",
      "C:\\Users\\pedro\\AppData\\Local\\Temp\\ipykernel_5024\\1630754020.py:92: UserWarning: data/mask/calzada_galvan_2505.tif is a low contrast image\n",
      "  skimage.io.imsave(destination_mask, mask, plugin=\"tifffile\")\n",
      "C:\\Users\\pedro\\AppData\\Local\\Temp\\ipykernel_5024\\1630754020.py:92: UserWarning: data/mask/calzada_galvan_2506.tif is a low contrast image\n",
      "  skimage.io.imsave(destination_mask, mask, plugin=\"tifffile\")\n",
      "C:\\Users\\pedro\\AppData\\Local\\Temp\\ipykernel_5024\\1630754020.py:92: UserWarning: data/mask/calzada_galvan_2507.tif is a low contrast image\n",
      "  skimage.io.imsave(destination_mask, mask, plugin=\"tifffile\")\n",
      "C:\\Users\\pedro\\AppData\\Local\\Temp\\ipykernel_5024\\1630754020.py:92: UserWarning: data/mask/calzada_galvan_2508.tif is a low contrast image\n",
      "  skimage.io.imsave(destination_mask, mask, plugin=\"tifffile\")\n",
      "C:\\Users\\pedro\\AppData\\Local\\Temp\\ipykernel_5024\\1630754020.py:92: UserWarning: data/mask/calzada_galvan_2604.tif is a low contrast image\n",
      "  skimage.io.imsave(destination_mask, mask, plugin=\"tifffile\")\n",
      "C:\\Users\\pedro\\AppData\\Local\\Temp\\ipykernel_5024\\1630754020.py:92: UserWarning: data/mask/calzada_galvan_2605.tif is a low contrast image\n",
      "  skimage.io.imsave(destination_mask, mask, plugin=\"tifffile\")\n",
      "C:\\Users\\pedro\\AppData\\Local\\Temp\\ipykernel_5024\\1630754020.py:92: UserWarning: data/mask/calzada_galvan_2627.tif is a low contrast image\n",
      "  skimage.io.imsave(destination_mask, mask, plugin=\"tifffile\")\n",
      "C:\\Users\\pedro\\AppData\\Local\\Temp\\ipykernel_5024\\1630754020.py:92: UserWarning: data/mask/calzada_galvan_2641.tif is a low contrast image\n",
      "  skimage.io.imsave(destination_mask, mask, plugin=\"tifffile\")\n",
      "C:\\Users\\pedro\\AppData\\Local\\Temp\\ipykernel_5024\\1630754020.py:92: UserWarning: data/mask/calzada_galvan_2642.tif is a low contrast image\n",
      "  skimage.io.imsave(destination_mask, mask, plugin=\"tifffile\")\n",
      "C:\\Users\\pedro\\AppData\\Local\\Temp\\ipykernel_5024\\1630754020.py:92: UserWarning: data/mask/calzada_galvan_2651.tif is a low contrast image\n",
      "  skimage.io.imsave(destination_mask, mask, plugin=\"tifffile\")\n",
      "C:\\Users\\pedro\\AppData\\Local\\Temp\\ipykernel_5024\\1630754020.py:92: UserWarning: data/mask/calzada_galvan_2652.tif is a low contrast image\n",
      "  skimage.io.imsave(destination_mask, mask, plugin=\"tifffile\")\n",
      "C:\\Users\\pedro\\AppData\\Local\\Temp\\ipykernel_5024\\1630754020.py:92: UserWarning: data/mask/calzada_galvan_2683.tif is a low contrast image\n",
      "  skimage.io.imsave(destination_mask, mask, plugin=\"tifffile\")\n",
      "C:\\Users\\pedro\\AppData\\Local\\Temp\\ipykernel_5024\\1630754020.py:92: UserWarning: data/mask/calzada_galvan_2684.tif is a low contrast image\n",
      "  skimage.io.imsave(destination_mask, mask, plugin=\"tifffile\")\n",
      "C:\\Users\\pedro\\AppData\\Local\\Temp\\ipykernel_5024\\1630754020.py:92: UserWarning: data/mask/calzada_galvan_2685.tif is a low contrast image\n",
      "  skimage.io.imsave(destination_mask, mask, plugin=\"tifffile\")\n",
      "C:\\Users\\pedro\\AppData\\Local\\Temp\\ipykernel_5024\\1630754020.py:92: UserWarning: data/mask/calzada_galvan_2686.tif is a low contrast image\n",
      "  skimage.io.imsave(destination_mask, mask, plugin=\"tifffile\")\n",
      "C:\\Users\\pedro\\AppData\\Local\\Temp\\ipykernel_5024\\1630754020.py:92: UserWarning: data/mask/calzada_galvan_2687.tif is a low contrast image\n",
      "  skimage.io.imsave(destination_mask, mask, plugin=\"tifffile\")\n",
      "C:\\Users\\pedro\\AppData\\Local\\Temp\\ipykernel_5024\\1630754020.py:92: UserWarning: data/mask/calzada_galvan_2688.tif is a low contrast image\n",
      "  skimage.io.imsave(destination_mask, mask, plugin=\"tifffile\")\n",
      "C:\\Users\\pedro\\AppData\\Local\\Temp\\ipykernel_5024\\1630754020.py:92: UserWarning: data/mask/calzada_galvan_2689.tif is a low contrast image\n",
      "  skimage.io.imsave(destination_mask, mask, plugin=\"tifffile\")\n",
      "C:\\Users\\pedro\\AppData\\Local\\Temp\\ipykernel_5024\\1630754020.py:92: UserWarning: data/mask/calzada_galvan_2690.tif is a low contrast image\n",
      "  skimage.io.imsave(destination_mask, mask, plugin=\"tifffile\")\n",
      "C:\\Users\\pedro\\AppData\\Local\\Temp\\ipykernel_5024\\1630754020.py:92: UserWarning: data/mask/calzada_galvan_2691.tif is a low contrast image\n",
      "  skimage.io.imsave(destination_mask, mask, plugin=\"tifffile\")\n",
      "C:\\Users\\pedro\\AppData\\Local\\Temp\\ipykernel_5024\\1630754020.py:92: UserWarning: data/mask/calzada_galvan_2692.tif is a low contrast image\n",
      "  skimage.io.imsave(destination_mask, mask, plugin=\"tifffile\")\n",
      "C:\\Users\\pedro\\AppData\\Local\\Temp\\ipykernel_5024\\1630754020.py:92: UserWarning: data/mask/calzada_galvan_2693.tif is a low contrast image\n",
      "  skimage.io.imsave(destination_mask, mask, plugin=\"tifffile\")\n",
      "C:\\Users\\pedro\\AppData\\Local\\Temp\\ipykernel_5024\\1630754020.py:92: UserWarning: data/mask/calzada_galvan_2694.tif is a low contrast image\n",
      "  skimage.io.imsave(destination_mask, mask, plugin=\"tifffile\")\n",
      "C:\\Users\\pedro\\AppData\\Local\\Temp\\ipykernel_5024\\1630754020.py:92: UserWarning: data/mask/calzada_galvan_2696.tif is a low contrast image\n",
      "  skimage.io.imsave(destination_mask, mask, plugin=\"tifffile\")\n",
      "C:\\Users\\pedro\\AppData\\Local\\Temp\\ipykernel_5024\\1630754020.py:92: UserWarning: data/mask/calzada_galvan_2697.tif is a low contrast image\n",
      "  skimage.io.imsave(destination_mask, mask, plugin=\"tifffile\")\n",
      "C:\\Users\\pedro\\AppData\\Local\\Temp\\ipykernel_5024\\1630754020.py:92: UserWarning: data/mask/calzada_galvan_2698.tif is a low contrast image\n",
      "  skimage.io.imsave(destination_mask, mask, plugin=\"tifffile\")\n",
      "C:\\Users\\pedro\\AppData\\Local\\Temp\\ipykernel_5024\\1630754020.py:92: UserWarning: data/mask/calzada_galvan_2699.tif is a low contrast image\n",
      "  skimage.io.imsave(destination_mask, mask, plugin=\"tifffile\")\n",
      "C:\\Users\\pedro\\AppData\\Local\\Temp\\ipykernel_5024\\1630754020.py:92: UserWarning: data/mask/calzada_galvan_2701.tif is a low contrast image\n",
      "  skimage.io.imsave(destination_mask, mask, plugin=\"tifffile\")\n",
      "C:\\Users\\pedro\\AppData\\Local\\Temp\\ipykernel_5024\\1630754020.py:92: UserWarning: data/mask/calzada_galvan_2702.tif is a low contrast image\n",
      "  skimage.io.imsave(destination_mask, mask, plugin=\"tifffile\")\n",
      "C:\\Users\\pedro\\AppData\\Local\\Temp\\ipykernel_5024\\1630754020.py:92: UserWarning: data/mask/calzada_galvan_2703.tif is a low contrast image\n",
      "  skimage.io.imsave(destination_mask, mask, plugin=\"tifffile\")\n",
      "C:\\Users\\pedro\\AppData\\Local\\Temp\\ipykernel_5024\\1630754020.py:92: UserWarning: data/mask/calzada_galvan_2704.tif is a low contrast image\n",
      "  skimage.io.imsave(destination_mask, mask, plugin=\"tifffile\")\n",
      "C:\\Users\\pedro\\AppData\\Local\\Temp\\ipykernel_5024\\1630754020.py:92: UserWarning: data/mask/calzada_galvan_2705.tif is a low contrast image\n",
      "  skimage.io.imsave(destination_mask, mask, plugin=\"tifffile\")\n",
      "C:\\Users\\pedro\\AppData\\Local\\Temp\\ipykernel_5024\\1630754020.py:92: UserWarning: data/mask/calzada_galvan_2709.tif is a low contrast image\n",
      "  skimage.io.imsave(destination_mask, mask, plugin=\"tifffile\")\n",
      "C:\\Users\\pedro\\AppData\\Local\\Temp\\ipykernel_5024\\1630754020.py:92: UserWarning: data/mask/calzada_galvan_2761.tif is a low contrast image\n",
      "  skimage.io.imsave(destination_mask, mask, plugin=\"tifffile\")\n",
      "C:\\Users\\pedro\\AppData\\Local\\Temp\\ipykernel_5024\\1630754020.py:92: UserWarning: data/mask/calzada_galvan_2762.tif is a low contrast image\n",
      "  skimage.io.imsave(destination_mask, mask, plugin=\"tifffile\")\n",
      "C:\\Users\\pedro\\AppData\\Local\\Temp\\ipykernel_5024\\1630754020.py:92: UserWarning: data/mask/calzada_galvan_2763.tif is a low contrast image\n",
      "  skimage.io.imsave(destination_mask, mask, plugin=\"tifffile\")\n",
      "C:\\Users\\pedro\\AppData\\Local\\Temp\\ipykernel_5024\\1630754020.py:92: UserWarning: data/mask/calzada_galvan_2764.tif is a low contrast image\n",
      "  skimage.io.imsave(destination_mask, mask, plugin=\"tifffile\")\n",
      "C:\\Users\\pedro\\AppData\\Local\\Temp\\ipykernel_5024\\1630754020.py:92: UserWarning: data/mask/calzada_galvan_2765.tif is a low contrast image\n",
      "  skimage.io.imsave(destination_mask, mask, plugin=\"tifffile\")\n",
      "C:\\Users\\pedro\\AppData\\Local\\Temp\\ipykernel_5024\\1630754020.py:92: UserWarning: data/mask/calzada_galvan_2766.tif is a low contrast image\n",
      "  skimage.io.imsave(destination_mask, mask, plugin=\"tifffile\")\n",
      "C:\\Users\\pedro\\AppData\\Local\\Temp\\ipykernel_5024\\1630754020.py:92: UserWarning: data/mask/calzada_galvan_2805.tif is a low contrast image\n",
      "  skimage.io.imsave(destination_mask, mask, plugin=\"tifffile\")\n",
      "C:\\Users\\pedro\\AppData\\Local\\Temp\\ipykernel_5024\\1630754020.py:92: UserWarning: data/mask/calzada_galvan_2807.tif is a low contrast image\n",
      "  skimage.io.imsave(destination_mask, mask, plugin=\"tifffile\")\n",
      "C:\\Users\\pedro\\AppData\\Local\\Temp\\ipykernel_5024\\1630754020.py:92: UserWarning: data/mask/calzada_galvan_2808.tif is a low contrast image\n",
      "  skimage.io.imsave(destination_mask, mask, plugin=\"tifffile\")\n",
      "C:\\Users\\pedro\\AppData\\Local\\Temp\\ipykernel_5024\\1630754020.py:92: UserWarning: data/mask/calzada_galvan_2810.tif is a low contrast image\n",
      "  skimage.io.imsave(destination_mask, mask, plugin=\"tifffile\")\n",
      "C:\\Users\\pedro\\AppData\\Local\\Temp\\ipykernel_5024\\1630754020.py:92: UserWarning: data/mask/calzada_galvan_493.tif is a low contrast image\n",
      "  skimage.io.imsave(destination_mask, mask, plugin=\"tifffile\")\n",
      "C:\\Users\\pedro\\AppData\\Local\\Temp\\ipykernel_5024\\1630754020.py:92: UserWarning: data/mask/calzada_galvan_499.tif is a low contrast image\n",
      "  skimage.io.imsave(destination_mask, mask, plugin=\"tifffile\")\n",
      "C:\\Users\\pedro\\AppData\\Local\\Temp\\ipykernel_5024\\1630754020.py:92: UserWarning: data/mask/calzada_galvan_525.tif is a low contrast image\n",
      "  skimage.io.imsave(destination_mask, mask, plugin=\"tifffile\")\n",
      "C:\\Users\\pedro\\AppData\\Local\\Temp\\ipykernel_5024\\1630754020.py:92: UserWarning: data/mask/calzada_galvan_528.tif is a low contrast image\n",
      "  skimage.io.imsave(destination_mask, mask, plugin=\"tifffile\")\n",
      "C:\\Users\\pedro\\AppData\\Local\\Temp\\ipykernel_5024\\1630754020.py:92: UserWarning: data/mask/calzada_galvan_604.tif is a low contrast image\n",
      "  skimage.io.imsave(destination_mask, mask, plugin=\"tifffile\")\n",
      "C:\\Users\\pedro\\AppData\\Local\\Temp\\ipykernel_5024\\1630754020.py:92: UserWarning: data/mask/calzada_galvan_605.tif is a low contrast image\n",
      "  skimage.io.imsave(destination_mask, mask, plugin=\"tifffile\")\n"
     ]
    },
    {
     "name": "stdout",
     "output_type": "stream",
     "text": [
      "Proceso de copiado... Completo\n",
      "{'acera': 2855, 'ciclovia': 1183, 'cruceZebra': 700}\n"
     ]
    }
   ],
   "source": [
    "def drop_traslapes(mask):\n",
    "    for d in range(mask.shape[2]-1):\n",
    "        matriz_b_existe = False\n",
    "        matrix_binaria = None\n",
    "\n",
    "        if not matriz_b_existe:\n",
    "            if len(np.unique(matrix_binaria))==0:\n",
    "                continue\n",
    "            else:\n",
    "                matrix_binaria = mask[:,:,d].copy()\n",
    "                matriz_b_existe = True\n",
    "\n",
    "        matrix_binaria[matrix_binaria == 0] = 1\n",
    "        matrix_binaria[matrix_binaria == 255] = 0\n",
    "\n",
    "        mask[:,:,d+1] = matrix_binaria * mask[:,:,d+1]\n",
    "    return mask\n",
    "\n",
    "def create_mask_file(width = 1920, height = 1080, annotation=False):\n",
    "  \"\"\"\n",
    "  Función para enmascarar las imagenes con las etiquetas\n",
    "  :param width:\n",
    "  :param height:\n",
    "  :param annotation:\n",
    "  :return:\n",
    "  \"\"\"\n",
    "  labels = {\"acera\":0,\"ciclovia\":1,\"cruceZebra\":2}\n",
    "\n",
    "  m = np.full((height, width) ,0, dtype=np.uint8)\n",
    "  rgb = [m,m,m] # red, green, blue\n",
    "\n",
    "  for shape in annotation[0][\"shapes\"]:\n",
    "    mask = np.full((height, width) ,0, dtype=np.uint8)\n",
    "    label = labels[shape[\"label\"]]\n",
    "    points = [tuple(map(float, p.split(','))) for p in shape['points'].split(';')]\n",
    "    points = np.array([(int(p[0]), int(p[1])) for p in points])\n",
    "    points = points.astype(int)\n",
    "    mask = cv2.drawContours(mask, [points], -1, 255)\n",
    "    mask = cv2.fillPoly(mask, [points], color=255)\n",
    "    rgb[label] = mask\n",
    "  return np.dstack(rgb)\n",
    "\n",
    "def readAnnotations(cvat_xml, image_name):\n",
    "    \"\"\"\n",
    "    Función para extraer los datos de cada annotation\n",
    "    :param cvat_xml:\n",
    "    :param image_name:\n",
    "    :return:\n",
    "    \"\"\"\n",
    "    root = etree.parse(cvat_xml).getroot()\n",
    "    anno = []\n",
    "    image_name_attr = \".//image[@name='{}']\".format(image_name)\n",
    "    for image_tag in root.iterfind(image_name_attr):\n",
    "      image = {}\n",
    "      for key, value in image_tag.items():\n",
    "        image[key] = value\n",
    "      image['shapes'] = []\n",
    "      for poly_tag in image_tag.iter('polygon'):\n",
    "        polygon = {'type': 'polygon'}\n",
    "        for key, value in poly_tag.items():\n",
    "            polygon[key] = value\n",
    "        image['shapes'].append(polygon)\n",
    "      for box_tag in image_tag.iter('box'):\n",
    "        box = {'type': 'box'}\n",
    "        for key, value in box_tag.items():\n",
    "            box[key] = value\n",
    "        box['points'] = \"{0},{1};{2},{1};{2},{3};{0},{3}\".format(\n",
    "            box['xtl'], box['ytl'], box['xbr'], box['ybr'])\n",
    "        image['shapes'].append(box)\n",
    "      image['shapes'].sort(key=lambda x: int(x.get('z_order', 0)))\n",
    "      anno.append(image)\n",
    "    return anno\n",
    "  \n",
    "def moveFrames():\n",
    "  for frame in frames:\n",
    "    if ').jpg' in frame:\n",
    "        continue\n",
    "      \n",
    "    annotation = readAnnotations(annotation_file, frame)\n",
    "    if annotation[0][\"shapes\"]: #Validar que el frame esté etiquedato\n",
    "        file_labeled = annotation[0][\"name\"]\n",
    "\n",
    "        # frames\n",
    "        actualLoc_frame = os.path.join(frames_dir, file_labeled)\n",
    "        destination_frame = os.path.join(train_location, file_labeled)\n",
    "        destination_mask  = os.path.join(mask_location, frame[:-4]+\".tif\")\n",
    "        shutil.copy(actualLoc_frame, destination_frame)\n",
    "        \n",
    "        # mascaras\n",
    "        mask = create_mask_file(annotation=annotation)\n",
    "        mask = drop_traslapes(mask)\n",
    "        \n",
    "        # Guardar la mascara en destination_mask como jpg\n",
    "        skimage.io.imsave(destination_mask, mask, plugin=\"tifffile\")\n",
    "        \n",
    "        for img in annotation:\n",
    "            for shape in img[\"shapes\"]:\n",
    "                labels[shape[\"label\"]] += 1\n",
    "    else:\n",
    "        file_unlabeled = annotation[0][\"name\"]\n",
    "        actualLoc_frame = os.path.join(frames_dir, file_unlabeled)\n",
    "        destination_frame = os.path.join(\"data/frameSinEtiquetar\", file_unlabeled)\n",
    "        shutil.copy(actualLoc_frame, destination_frame)\n",
    "\n",
    "moveFrames()\n",
    "print(\"Proceso de copiado... Completo\")\n",
    "\n",
    "print(labels)\n",
    "#input(\"Presione Enter para continuar...\")"
   ]
  },
  {
   "attachments": {},
   "cell_type": "markdown",
   "metadata": {},
   "source": [
    "## Cargamos los directorios de train y mask"
   ]
  },
  {
   "cell_type": "code",
   "execution_count": 22,
   "metadata": {},
   "outputs": [
    {
     "name": "stdout",
     "output_type": "stream",
     "text": [
      "2728\n"
     ]
    },
    {
     "data": {
      "text/plain": [
       "['data/train\\\\calzada_galvan_10.jpg',\n",
       " 'data/train\\\\calzada_galvan_100.jpg',\n",
       " 'data/train\\\\calzada_galvan_1000.jpg',\n",
       " 'data/train\\\\calzada_galvan_1001.jpg',\n",
       " 'data/train\\\\calzada_galvan_1002.jpg']"
      ]
     },
     "execution_count": 22,
     "metadata": {},
     "output_type": "execute_result"
    }
   ],
   "source": [
    "train_frames = glob.glob(train_location)\n",
    "print(len(train_frames))\n",
    "train_frames[:5]"
   ]
  },
  {
   "cell_type": "code",
   "execution_count": 24,
   "metadata": {},
   "outputs": [
    {
     "name": "stdout",
     "output_type": "stream",
     "text": [
      "2728\n"
     ]
    },
    {
     "data": {
      "text/plain": [
       "['data/mask\\\\calzada_galvan_10.tif',\n",
       " 'data/mask\\\\calzada_galvan_100.tif',\n",
       " 'data/mask\\\\calzada_galvan_1000.tif',\n",
       " 'data/mask\\\\calzada_galvan_1001.tif',\n",
       " 'data/mask\\\\calzada_galvan_1002.tif']"
      ]
     },
     "execution_count": 24,
     "metadata": {},
     "output_type": "execute_result"
    }
   ],
   "source": [
    "mask_frames = glob.glob(mask_location)\n",
    "print(len(mask_frames))\n",
    "mask_frames[:5]"
   ]
  },
  {
   "attachments": {},
   "cell_type": "markdown",
   "metadata": {},
   "source": [
    "## Creación del dataset"
   ]
  },
  {
   "cell_type": "code",
   "execution_count": 25,
   "metadata": {},
   "outputs": [
    {
     "ename": "NameError",
     "evalue": "name 'Dataset' is not defined",
     "output_type": "error",
     "traceback": [
      "\u001b[1;31m---------------------------------------------------------------------------\u001b[0m",
      "\u001b[1;31mNameError\u001b[0m                                 Traceback (most recent call last)",
      "Cell \u001b[1;32mIn[25], line 1\u001b[0m\n\u001b[1;32m----> 1\u001b[0m \u001b[39mclass\u001b[39;00m \u001b[39mUnet_Dataset\u001b[39;00m(Dataset):\n\u001b[0;32m      2\u001b[0m   \u001b[39mdef\u001b[39;00m \u001b[39m__init__\u001b[39m(\u001b[39mself\u001b[39m) \u001b[39m-\u001b[39m\u001b[39m>\u001b[39m \u001b[39mNone\u001b[39;00m:\n\u001b[0;32m      3\u001b[0m     \u001b[39msuper\u001b[39m()\u001b[39m.\u001b[39m\u001b[39m__init__\u001b[39m()\n",
      "\u001b[1;31mNameError\u001b[0m: name 'Dataset' is not defined"
     ]
    }
   ],
   "source": [
    "class Unet_Dataset(Dataset):\n",
    "  def __init__(self, data, masks=None, img_transform=None, mask_transform=None):\n",
    "    '''\n",
    "    data - train data path\n",
    "    masks - train masks path\n",
    "    '''\n",
    "    self.data = data\n",
    "    self.masks = masks\n",
    "    \n",
    "    self.img_transform = img_transform\n",
    "    self.mask_transform = mask_transform\n",
    "    \n",
    "    self.images = sorted(os.listdir(self.train_data))\n",
    "    self.masks = sorted(os.listdir(self.train_masks))\n",
    "    \n",
    "  def __len__(self):\n",
    "    if self.train_masks is not None:\n",
    "      assert len(self.images) == len(self.masks), \"Images and masks must have the same length\"\n",
    "    return len(self.images)\n",
    "  \n",
    "  def __getitem__(self, idx):\n",
    "    image_name = os.path.join(self.train_data, self.images[idx])"
   ]
  },
  {
   "cell_type": "code",
   "execution_count": null,
   "metadata": {},
   "outputs": [],
   "source": []
  }
 ],
 "metadata": {
  "kernelspec": {
   "display_name": "Python 3",
   "language": "python",
   "name": "python3"
  },
  "language_info": {
   "codemirror_mode": {
    "name": "ipython",
    "version": 3
   },
   "file_extension": ".py",
   "mimetype": "text/x-python",
   "name": "python",
   "nbconvert_exporter": "python",
   "pygments_lexer": "ipython3",
   "version": "3.10.9"
  },
  "orig_nbformat": 4,
  "vscode": {
   "interpreter": {
    "hash": "c3503f95e0e8f4afdf6702396a7a2a29cae9f67572acfe092405dcaa2579b817"
   }
  }
 },
 "nbformat": 4,
 "nbformat_minor": 2
}
